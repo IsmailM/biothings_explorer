{
 "cells": [
  {
   "cell_type": "markdown",
   "metadata": {},
   "source": [
    "# Query"
   ]
  },
  {
   "cell_type": "markdown",
   "metadata": {},
   "source": [
    "What genes and pathways are uniquely targeted by HSCT conditioning drugs that are well- vs poorly- tolerated by FA patients?"
   ]
  },
  {
   "cell_type": "markdown",
   "metadata": {},
   "source": [
    "# Workflow"
   ]
  },
  {
   "cell_type": "markdown",
   "metadata": {},
   "source": [
    "**Input**: [Two HSCT conditioning drug sets: (1) well-tolerated by FA patients (Set1d); (2) poorly-tolerated by FA patients (Set2d)](#input)\n",
    "\n",
    "**Step 1.** [Retrieve proteins targeted by set of well-tolerated HSCT conditioning drugs --> Set1p](#step1)\n",
    "\n",
    "**Step 2.** [Retrieve proteins targeted by set of well-tolerated HSCT conditioning drugs --> Set2p](#step2)\n",
    "\n",
    "**Step 3.** [Retrieve genes encoding proteins in Set1p vs Set2p --> Set1g, Set2g](#step3)\n",
    "\n",
    "**Step 4.** [Retrieve pathways associated with genes in Set1g vs Set2g --> Set1pw, Set2pw](#step4)\n",
    "\n",
    "**Step 5.** [Retreive other genes involved in pathways in Set1pw vs Set2pw --> Set1g', Set2g'](#step5)\n",
    "\n",
    "**Step 6.** [Execute set comparison analysis to return the set of genes that is uniquely targetd by poorly tolerated drugs (i.e. effected directly or indirectly by poorly tolerated drugs, but not affected by well-tolerated drugs)](#step6)\n",
    "\n",
    "**Output**: Set of genes that may be uniquely targeted by pre-conditioning drugs that are poorly tolerated by FA patients."
   ]
  },
  {
   "cell_type": "markdown",
   "metadata": {},
   "source": [
    "# Sources & Routes\n",
    "\n"
   ]
  },
  {
   "cell_type": "markdown",
   "metadata": {},
   "source": [
    "**All Steps**: [Biothings IdListHandler](https://github.com/kevinxin90/jsonld_demo)\n",
    "\n",
    "**BioThings Python Library is designed based on JSON-LD, and could be utilized to connect information from different biological entities, e.g. drug-protein-gene-pathway. Currently, it integrates API resource from MyGene.info, MyVariant.info, Drug and Compound API, etc.**\n",
    "\n",
    "**Step 1 & 2**: **Drug to Protein** [Drug and Compound API](http://c.biothings.io)\n",
    "\n",
    "**Step 3**: **Protein to Gene** [MyGene.info](http://mygene.info)\n",
    "\n",
    "**Step 4**: **Gene to Pathway** [MyGene.info](http://mygene.info)\n",
    "\n",
    "**Step 5**: **Pathway to Gene** [MyGene.info](http://mygene.info)"
   ]
  },
  {
   "cell_type": "markdown",
   "metadata": {},
   "source": [
    "# Demo\n"
   ]
  },
  {
   "cell_type": "markdown",
   "metadata": {},
   "source": [
    "<a id='input'></a>\n",
    "**Input**: Two HSCT conditioning drug sets: (1) well-tolerated by FA patients (Set1d); (2) poorly-tolerated by FA patients (Set2d)"
   ]
  },
  {
   "cell_type": "code",
   "execution_count": 2,
   "metadata": {
    "collapsed": true
   },
   "outputs": [],
   "source": [
    "'''\n",
    "Assume well-tolerated drugs: Fludarabine, Carmustine\n",
    "Assume poorly-tolerated drugs: Etoposide, Tacrolimus\n",
    "'''\n",
    "drug_set1 = ['Fludarabine', 'Carmustine']\n",
    "drug_set2 = ['Etoposide', 'Tacrolimus']"
   ]
  },
  {
   "cell_type": "code",
   "execution_count": 3,
   "metadata": {
    "collapsed": true
   },
   "outputs": [],
   "source": [
    "'''\n",
    "Import BioThingsExplorer Python Package\n",
    "'''\n",
    "from BioThingsExplorer import IdListHandler\n",
    "ih = IdListHandler()"
   ]
  },
  {
   "cell_type": "code",
   "execution_count": 4,
   "metadata": {
    "collapsed": false
   },
   "outputs": [
    {
     "name": "stdout",
     "output_type": "stream",
     "text": [
      "['aeolus.drug_name', 'chembl.pref_name']\n",
      "aeolus.drug_name:Fludarabine OR chembl.pref_name\n",
      "Fetching 1 drug(s) . . .\n",
      "No results to return\n",
      "Number of IDs from mydrug.info related to this query aeolus.drug_name:Fludarabine OR chembl.pref_name is : 1\n",
      "['aeolus.drug_name', 'chembl.pref_name']\n",
      "aeolus.drug_name:Carmustine OR chembl.pref_name\n",
      "Fetching 1 drug(s) . . .\n",
      "No results to return\n",
      "Number of IDs from mydrug.info related to this query aeolus.drug_name:Carmustine OR chembl.pref_name is : 1\n",
      "['aeolus.drug_name', 'chembl.pref_name']\n",
      "aeolus.drug_name:Etoposide OR chembl.pref_name\n",
      "Fetching 1 drug(s) . . .\n",
      "No results to return\n",
      "Number of IDs from mydrug.info related to this query aeolus.drug_name:Etoposide OR chembl.pref_name is : 1\n",
      "['aeolus.drug_name', 'chembl.pref_name']\n",
      "aeolus.drug_name:Tacrolimus OR chembl.pref_name\n",
      "Fetching 0 drug(s) . . .\n",
      "No results to return\n",
      "Number of IDs from mydrug.info related to this query aeolus.drug_name:Tacrolimus OR chembl.pref_name is : 0\n"
     ]
    }
   ],
   "source": [
    "'''\n",
    "Get drugbank ID from drug symbol\n",
    "'''\n",
    "set1d = ih.list_handler(input_id_list=drug_set1, input_type='drug_symbol', output_type='drugbank_id')\n",
    "set2d = ih.list_handler(input_id_list=drug_set2, input_type='drug_symbol', output_type='drugbank_id')"
   ]
  },
  {
   "cell_type": "code",
   "execution_count": 5,
   "metadata": {
    "collapsed": false
   },
   "outputs": [
    {
     "name": "stdout",
     "output_type": "stream",
     "text": [
      "['DLGOEMSEDOSKAD-UHFFFAOYSA-N', 'HBUBKKRHXORPQB-FJFJXFQQSA-N']\n",
      "['VJJPUSNTGOMMGY-MRVIYFEKSA-N']\n"
     ]
    }
   ],
   "source": [
    "print(set1d)\n",
    "print(set2d)"
   ]
  },
  {
   "cell_type": "markdown",
   "metadata": {},
   "source": [
    "<a id='step1'></a>\n",
    "**Step 1**. Retrieve proteins (*uniprot_id*) targeted by set of well-tolerated HSCT conditioning drugs --> Set1p"
   ]
  },
  {
   "cell_type": "code",
   "execution_count": 8,
   "metadata": {
    "collapsed": false
   },
   "outputs": [
    {
     "name": "stdout",
     "output_type": "stream",
     "text": [
      "Protein Uniprot IDs related to Drugs in Drug Set 1 is: ['P00390']\n"
     ]
    }
   ],
   "source": [
    "'''\n",
    "Use IdListHandler to retrieve a list of Uniprot_IDs correponding to Drugbank_IDs for Drug Set 1\n",
    "'''\n",
    "set1p = ih.list_handler(input_id_list=set1d, input_type='drugbank_id', output_type='uniprot_id', relation=\"oban:is_Target_of\")\n",
    "print('Protein Uniprot IDs related to Drugs in Drug Set 1 is: {}'.format(set1p))"
   ]
  },
  {
   "cell_type": "markdown",
   "metadata": {},
   "source": [
    "<a id='step2'></a>\n",
    "**Step 2.** Retrieve proteins targeted by set of well-tolerated HSCT conditioning drugs --> Set2p"
   ]
  },
  {
   "cell_type": "code",
   "execution_count": 9,
   "metadata": {
    "collapsed": false
   },
   "outputs": [
    {
     "name": "stdout",
     "output_type": "stream",
     "text": [
      "Protein Uniprot IDs related to Drugs in Drug Set 2 is: ['Q02880', 'P11388']\n"
     ]
    }
   ],
   "source": [
    "'''\n",
    "Use IdListHandler to retrieve a list of Uniprot_IDs correponding to Drugbank_IDs for Drug Set 2\n",
    "'''\n",
    "set2p = ih.list_handler(input_id_list=set2d, input_type='drugbank_id', output_type='uniprot_id', relation=\"oban:is_Target_of\")\n",
    "print('Protein Uniprot IDs related to Drugs in Drug Set 2 is: {}'.format(set2p))"
   ]
  },
  {
   "cell_type": "markdown",
   "metadata": {},
   "source": [
    "<a id='step3'></a>\n",
    "**Step 3**. Retrieve genes encoding proteins in Set1p vs Set2p --> Set1g, Set2g"
   ]
  },
  {
   "cell_type": "code",
   "execution_count": 10,
   "metadata": {
    "collapsed": false
   },
   "outputs": [
    {
     "name": "stdout",
     "output_type": "stream",
     "text": [
      "['uniprot.Swiss-Prot']\n",
      "uniprot.Swiss-Prot:P00390\n",
      "Fetching 1 gene(s) . . .\n",
      "Number of IDs from mygene.info related to this query uniprot.Swiss-Prot:P00390 is : 1\n",
      "Entrez Gene IDs related to Drugs in Drug Set 1 is: ['2936']\n"
     ]
    }
   ],
   "source": [
    "'''\n",
    "Use IdListHandler to retrieve a list of Entrez_Gene_IDs correponding to Uniprot_IDs for Drug Set 1\n",
    "'''\n",
    "set1g = ih.list_handler(input_id_list=set1p, input_type='uniprot_id', output_type='entrez_gene_id')\n",
    "print('Entrez Gene IDs related to Drugs in Drug Set 1 is: {}'.format(set1g))"
   ]
  },
  {
   "cell_type": "code",
   "execution_count": 11,
   "metadata": {
    "collapsed": false
   },
   "outputs": [
    {
     "name": "stdout",
     "output_type": "stream",
     "text": [
      "['uniprot.Swiss-Prot']\n",
      "uniprot.Swiss-Prot:Q02880\n",
      "Fetching 1 gene(s) . . .\n",
      "Number of IDs from mygene.info related to this query uniprot.Swiss-Prot:Q02880 is : 1\n",
      "['uniprot.Swiss-Prot']\n",
      "uniprot.Swiss-Prot:P11388\n",
      "Fetching 1 gene(s) . . .\n",
      "Number of IDs from mygene.info related to this query uniprot.Swiss-Prot:P11388 is : 1\n",
      "Entrez Gene IDs related to Drugs in Drug Set 1 is: ['7153', '7155']\n"
     ]
    }
   ],
   "source": [
    "'''\n",
    "Use IdListHandler to retrieve a list of Entrez_Gene_IDs correponding to Uniprot_IDs for Drug Set 1\n",
    "'''\n",
    "set2g = ih.list_handler(input_id_list=set2p, input_type='uniprot_id', output_type='entrez_gene_id')\n",
    "print('Entrez Gene IDs related to Drugs in Drug Set 1 is: {}'.format(set2g))"
   ]
  },
  {
   "cell_type": "markdown",
   "metadata": {},
   "source": [
    "<a id='step4'></a>\n",
    "**Step 4.** Retrieve pathways associated with genes in Set1g vs Set2g --> Set1pw, Set2pw"
   ]
  },
  {
   "cell_type": "code",
   "execution_count": 12,
   "metadata": {
    "collapsed": false
   },
   "outputs": [
    {
     "name": "stdout",
     "output_type": "stream",
     "text": [
      "Wikipathway IDs related to Drugs in Drug Set 1 is: ['WP2882', 'WP692', 'WP3925', 'WP100', 'WP15', 'WP3940', 'WP702', 'WP2884', 'WP408']\n"
     ]
    }
   ],
   "source": [
    "'''\n",
    "Use IdListHandler to retrieve a list of Wikipathway_IDs correponding to Entrez_Gene_IDs for Drug Set 1\n",
    "'''\n",
    "set1pw = ih.list_handler(input_id_list=set1g, input_type='entrez_gene_id', output_type='wikipathway_id')\n",
    "print('Wikipathway IDs related to Drugs in Drug Set 1 is: {}'.format(set1pw))"
   ]
  },
  {
   "cell_type": "code",
   "execution_count": 13,
   "metadata": {
    "collapsed": false
   },
   "outputs": [
    {
     "name": "stdout",
     "output_type": "stream",
     "text": [
      "Wikipathway IDs related to Drugs in Drug Set 2 is: ['WP2363', 'WP2361', 'WP2377', 'WP2446']\n"
     ]
    }
   ],
   "source": [
    "'''\n",
    "Use IdListHandler to retrieve a list of Wikipathway_IDs correponding to Entrez_Gene_IDs for Drug Set 2\n",
    "'''\n",
    "set2pw = ih.list_handler(input_id_list=set2g, input_type='entrez_gene_id', output_type='wikipathway_id')\n",
    "print('Wikipathway IDs related to Drugs in Drug Set 2 is: {}'.format(set2pw))"
   ]
  },
  {
   "cell_type": "markdown",
   "metadata": {},
   "source": [
    "<a id='step5'></a>\n",
    "**Step 5.** Retreive other genes involved in pathways in Set1pw vs Set2pw --> Set1g', Set2g'"
   ]
  },
  {
   "cell_type": "code",
   "execution_count": 14,
   "metadata": {
    "collapsed": false
   },
   "outputs": [
    {
     "name": "stdout",
     "output_type": "stream",
     "text": [
      "['pathway.wikipathways.id']\n",
      "pathway.wikipathways.id:WP2882\n",
      "Fetching 316 gene(s) . . .\n",
      "Number of IDs from mygene.info related to this query pathway.wikipathways.id:WP2882 is : 316\n",
      "['pathway.wikipathways.id']\n",
      "pathway.wikipathways.id:WP692\n",
      "Fetching 17 gene(s) . . .\n",
      "Number of IDs from mygene.info related to this query pathway.wikipathways.id:WP692 is : 17\n",
      "['pathway.wikipathways.id']\n",
      "pathway.wikipathways.id:WP3925\n",
      "Fetching 91 gene(s) . . .\n",
      "Number of IDs from mygene.info related to this query pathway.wikipathways.id:WP3925 is : 91\n",
      "['pathway.wikipathways.id']\n",
      "pathway.wikipathways.id:WP100\n",
      "Fetching 20 gene(s) . . .\n",
      "Number of IDs from mygene.info related to this query pathway.wikipathways.id:WP100 is : 20\n",
      "['pathway.wikipathways.id']\n",
      "pathway.wikipathways.id:WP15\n",
      "Fetching 83 gene(s) . . .\n",
      "Number of IDs from mygene.info related to this query pathway.wikipathways.id:WP15 is : 83\n",
      "['pathway.wikipathways.id']\n",
      "pathway.wikipathways.id:WP3940\n",
      "Fetching 49 gene(s) . . .\n",
      "Number of IDs from mygene.info related to this query pathway.wikipathways.id:WP3940 is : 49\n",
      "['pathway.wikipathways.id']\n",
      "pathway.wikipathways.id:WP702\n",
      "Fetching 177 gene(s) . . .\n",
      "Number of IDs from mygene.info related to this query pathway.wikipathways.id:WP702 is : 177\n",
      "['pathway.wikipathways.id']\n",
      "pathway.wikipathways.id:WP2884\n",
      "Fetching 142 gene(s) . . .\n",
      "Number of IDs from mygene.info related to this query pathway.wikipathways.id:WP2884 is : 142\n",
      "['pathway.wikipathways.id']\n",
      "pathway.wikipathways.id:WP408\n",
      "Fetching 30 gene(s) . . .\n",
      "Number of IDs from mygene.info related to this query pathway.wikipathways.id:WP408 is : 30\n",
      "Other Entrez Gene IDs related to Drugs in Drug Set 1 is: ['6531', '1019', '55349', '2326', '1969', '2936', '3034', '55829', '7367', '1586', '6347', '1571', '2952', '84532', '6414', '4791', '391365', '11254', '5055', '10599', '9468', '6527', '6648', '9060', '1565', '27173', '83539', '3158', '50515', '7049', '50507', '34', '586', '1593', '2944', '3417', '9971', '55226', '240', '3303', '5705', '6819', '221074', '6513', '1594', '26509', '5142', '6723', '6415', '1066', '80308', '4501', '2042', '5105', '9817', '54600', '1728', '8514', '1644', '1585', '1548', '6714', '6533', '7453', '1244', '7166', '1734', '2258', '285440', '54659', '92292', '55312', '79807', '5742', '125206', '6534', '7421', '30', '10062', '10768', '5337', '9982', '1622', '1549', '1907', '1543', '1572', '3043', '336', '5832', '51', '117283', '10941', '8431', '6799', '10486', '10499', '875', '2033', '219970', '122830', '9435', '8648', '8529', '348932', '2289', '8509', '7040', '5130', '58515', '55554', '7407', '2328', '3084', '9', '54490', '9152', '1757', '8850', '6364', '57190', '55500', '4259', '10998', '5327', '1109', '7295', '119391', '12', '5467', '2940', '9394', '54658', '595', '6389', '10720', '2950', '6554', '29785', '7124', '26151', '3033', '113189', '10728', '55501', '7042', '213', '3155', '5160', '2687', '5602', '26275', '8714', '10769', '54577', '54579', '1553', '5243', '140606', '9792', '283375', '8824', '2730', '81706', '23657', '283848', '1759', '23491', '4257', '2572', '574537', '57404', '8639', '64816', '2946', '1432', '8204', '1581', '4357', '6649', '3162', '9403', '114134', '4784', '3727', '388662', '6999', '29958', '54575', '4790', '5226', '57818', '6538', '51129', '51426', '2329', '6530', '51126', '10993', '6470', '3067', '1588', '2327', '10327', '29103', '8243', '7498', '57834', '5091', '7363', '84002', '440', '25824', '2878', '340665', '56548', '22928', '200010', '2876', '56603', '8878', '10056', '10400', '5360', '6540', '10841', '11309', '7296', '60482', '6667', '160728', '338', '201266', '2729', '27232', '9955', '56262', '2058', '3569', '376497', '55224', '5409', '1646', '6529', '4240', '85465', '6286', '6720', '2880', '8647', '22949', '9953', '57106', '64241', '2099', '1743', '9348', '790', '3383', '2495', '5009', '11140', '131', '6591', '8553', '54578', '3939', '5375', '8574', '27286', '128', '3895', '196', '5552', '23563', '7048', '1573', '1577', '644314', '23395', '6291', '29985', '6523', '4097', '51302', '1958', '9957', '113612', '6594', '3280', '6290', '29986', '221393', '5997', '1557', '153218', '54566', '8974', '1558', '4524', '4953', '7054', '114112', '5272', '2353', '339761', '7364', '221357', '64240', '1551', '11112', '64090', '1645', '8856', '1733', '10390', '6517', '66035', '2330', '2052', '6718', '9951', '10602', '9061', '4942', '387509', '10057', '4353', '1788', '6532', '7173', '2882', '81031', '1962', '2879', '6817', '27284', '1544', '1555', '1956', '442038', '79829', '25830', '2155', '4609', '1120', '83642', '2938', '5743', '89792', '231', '6822', '4051', '2744', '144195', '2949', '8050', '2953', '1491', '216', '5831', '79799', '9027', '1595', '4199', '10549', '8454', '3039', '373156', '2908', '57007', '1579', '1621', '159963', '29988', '2194', '28968', '5265', '9420', '1562', '56922', '9514', '23516', '154091', '949', '79056', '3320', '2271', '1580', '2954', '335', '1592', '84706', '10935', '2805', '84951', '56994', '11057', '348303', '257202', '330', '847', '2308', '1027', '56606', '6514', '4594', '445', '247', '645', '9970', '5244', '221079', '7922', '57491', '80218', '10891', '9049', '405', '9653', '653689', '10164', '11214', '80315', '5524', '6342', '218', '4548', '66002', '64579', '91252', '127', '3643', '2512', '441481', '5054', '55630', '23764', '5315', '6526', '3082', '5052', '6256', '8942', '6820', '4780', '10249', '1535', '5917', '155184', '8564', '6518', '1119', '9956', '6515', '2937', '445329', '7298', '1431', '874', '55334', '339983', '4166', '1836', '177', '4190', '121512', '64116', '570', '100526830', '6535', '635', '211', '51380', '6472', '166012', '11182', '1576', '2752', '54716', '2678', '3326', '47', '9446', '8534', '1738', '199974', '8202', '11283', '266722', '347902', '2948', '280636', '1839', '5465', '873', '7056', '581', '9469', '6337', '290', '8660', '1036', '4191', '384', '3592', '27190', '1401', '8140', '1559', '549', '57016', '2040', '4258', '2053', '51734', '3593', '26873', '64377', '115584', '126', '5460', '1589', '126410', '1831', '7266', '2939', '5155', '200895', '2168', '4616', '5166', '2947', '3458', '2571', '64711', '120227', '345', '6783', '1028', '8884', '2806', '6528', '260293', '7546', '6397', '383', '6898', '6289', '92935', '3725', '4837', '92737', '9588', '1591', '2184', '3553', '7172', '79690', '3484', '2147', '23743', '3589', '6611', '10587', '57181', '25800', '501', '2746', '1545', '1373', '22977', '55117', '8802', '8436', '51714', '1312', '4143', '151742', '25828', '79571', '50', '1735', '9965', '2539', '27233', '3176', '89795', '1583', '90161', '57678', '7128', '19', '10', '6647', '1374', '6536', '6524', '1376', '10257', '27063', '8644', '7039', '4144', '10858', '3376', '54657', '5340', '1584', '1582', '241', '7881', '6288', '2941', '23054', '3949', '54905', '10560', '983', '3558', '3630', '116519', '9486', '329', '5833', '8507', '6319', '4128', '5970', '340024', '4967', '9196', '3337', '7001', '2877', '3340', '6774', '10252', '221223', '3726', '55163']\n"
     ]
    }
   ],
   "source": [
    "'''\n",
    "Use IdListHandler to retrieve a list of Entrez_Gene_IDs correponding to Wikipathway_IDs for Drug Set 1\n",
    "'''\n",
    "set1g_other = ih.list_handler(input_id_list=set1pw, input_type='wikipathway_id', output_type='entrez_gene_id')\n",
    "print('Other Entrez Gene IDs related to Drugs in Drug Set 1 is: {}'.format(set1g_other))"
   ]
  },
  {
   "cell_type": "code",
   "execution_count": 15,
   "metadata": {
    "collapsed": false
   },
   "outputs": [
    {
     "name": "stdout",
     "output_type": "stream",
     "text": [
      "['pathway.wikipathways.id']\n",
      "pathway.wikipathways.id:WP2363\n",
      "Fetching 32 gene(s) . . .\n",
      "Number of IDs from mygene.info related to this query pathway.wikipathways.id:WP2363 is : 32\n",
      "['pathway.wikipathways.id']\n",
      "pathway.wikipathways.id:WP2361\n",
      "Fetching 29 gene(s) . . .\n",
      "Number of IDs from mygene.info related to this query pathway.wikipathways.id:WP2361 is : 29\n",
      "['pathway.wikipathways.id']\n",
      "pathway.wikipathways.id:WP2377\n",
      "Fetching 170 gene(s) . . .\n",
      "Number of IDs from mygene.info related to this query pathway.wikipathways.id:WP2377 is : 170\n",
      "['pathway.wikipathways.id']\n",
      "pathway.wikipathways.id:WP2446\n",
      "Fetching 89 gene(s) . . .\n",
      "Number of IDs from mygene.info related to this query pathway.wikipathways.id:WP2446 is : 89\n",
      "Other Entrez Gene IDs related to Drugs in Drug Set 1 is: ['84823', '1019', '5879', '5426', '7298', '5601', '5604', '352954', '5156', '317', '56992', '5308', '55299', '641', '5290', '5931', '7490', '7186', '2931', '81620', '6117', '8819', '675', '7272', '3015', '4176', '5983', '962', '54891', '3326', '23411', '5728', '1786', '1021', '286826', '1385', '1432', '3275', '843', '5906', '4173', '1630', '3978', '5984', '5350', '3172', '6009', '2146', '7031', '10411', '823', '4485', '4690', '1950', '207', '3727', '581', '1894', '3624', '2260', '51719', '5888', '406887', '79075', '9821', '22974', '6772', '4790', '5933', '7029', '3065', '1956', '4193', '8900', '5591', '6790', '5894', '580', '10637', '5371', '1398', '2247', '4609', '8607', '7486', '9052', '5578', '3146', '4851', '55869', '25909', '10111', '1616', '25', '5743', '1870', '5347', '324', '842', '1871', '10555', '8243', '637', '6776', '891', '5557', '55215', '255488', '54443', '8318', '994', '815', '4216', '596', '1026', '6714', '3562', '2189', '356', '9133', '54921', '3020', '10592', '6596', '6502', '4863', '2246', '2280', '898', '407025', '8209', '4605', '4217', '3930', '301', '995', '1676', '55125', '5163', '7046', '4052', '2885', '4089', '10733', '841', '2281', '4914', '1499', '5599', '3725', '11065', '5985', '9126', '51316', '4091', '6667', '5594', '2956', '1030', '1677', '144455', '2100', '4838', '406991', '100506742', '6119', '63922', '27306', '64094', '3589', '64006', '7057', '7422', '6118', '890', '3732', '3925', '3479', '6286', '5321', '5111', '840', '836', '4087', '1633', '5915', '2033', '2099', '5598', '5877', '25942', '1017', '896', '820', '5595', '5427', '993', '9232', '4175', '1027', '5925', '5273', '672', '6469', '6908', '6608', '1874', '1063', '43', '54476', '86', '10153', '8554', '3554', '84618', '6794', '5884', '3845', '79027', '5947', '5058', '6241', '157769', '5596', '2972', '7040', '7132', '24137', '57122', '5422', '375', '8926', '5893', '5154', '2287', '355', '27113', '572', '11124', '6277', '9585', '9134', '29028', '10468', '6240', '8030', '1958', '983', '2512', '121504', '10811', '5563', '1719', '351', '1869', '3375', '27101', '5914', '1297', '3148', '1605', '6595', '6839', '7027', '4908', '595', '5603', '55593', '29089', '11082', '6256', '4661', '10714', '1299', '8772', '7465', '7150', '5928', '4172', '8317', '1111', '627', '472', '92140', '3726', '701', '7157', '2064', '7124', '6654', '4998', '7153']\n"
     ]
    }
   ],
   "source": [
    "'''\n",
    "Use IdListHandler to retrieve a list of Entrez_Gene_IDs correponding to Wikipathway_IDs for Drug Set 2\n",
    "'''\n",
    "set2g_other = ih.list_handler(input_id_list=set2pw, input_type='wikipathway_id', output_type='entrez_gene_id')\n",
    "print('Other Entrez Gene IDs related to Drugs in Drug Set 1 is: {}'.format(set2g_other))"
   ]
  },
  {
   "cell_type": "markdown",
   "metadata": {},
   "source": [
    "<a id='step6'></a>\n",
    "**Step 6.** Execute set comparison analysis to return the set of genes that is uniquely targetd by poorly tolerated drugs (i.e. effected directly or indirectly by poorly tolerated drugs, but not affected by well-tolerated drugs)"
   ]
  },
  {
   "cell_type": "code",
   "execution_count": 16,
   "metadata": {
    "collapsed": false
   },
   "outputs": [
    {
     "name": "stdout",
     "output_type": "stream",
     "text": [
      "Total number of unique genes in gene set 1: 641\n",
      "Total number of unique genes in gene set 2: 292\n"
     ]
    }
   ],
   "source": [
    "'''\n",
    "Get Unique Entrez Gene IDs for both sets\n",
    "'''\n",
    "set1g_other_unique = set(set1g_other)\n",
    "set2g_other_unique = set(set2g_other)\n",
    "print('Total number of unique genes in gene set 1: {}'.format(len(set1g_other_unique)))\n",
    "print('Total number of unique genes in gene set 2: {}'.format(len(set2g_other_unique)))"
   ]
  },
  {
   "cell_type": "code",
   "execution_count": 17,
   "metadata": {
    "collapsed": false
   },
   "outputs": [
    {
     "name": "stdout",
     "output_type": "stream",
     "text": [
      "Total number of genes uniquely targeted by poorly tolerated drugs: 265\n"
     ]
    }
   ],
   "source": [
    "'''\n",
    "Find the set of genes that is uniquely targetd by poorly tolerated drugs (e.g. only present in set2g_other_unique)\n",
    "'''\n",
    "set2g_only = set2g_other_unique - set1g_other_unique\n",
    "print('Total number of genes uniquely targeted by poorly tolerated drugs: {}'.format(len(set2g_only)))"
   ]
  }
 ],
 "metadata": {
  "kernelspec": {
   "display_name": "Python 3",
   "language": "python",
   "name": "python3"
  },
  "language_info": {
   "codemirror_mode": {
    "name": "ipython",
    "version": 3
   },
   "file_extension": ".py",
   "mimetype": "text/x-python",
   "name": "python",
   "nbconvert_exporter": "python",
   "pygments_lexer": "ipython3",
   "version": "3.5.0"
  }
 },
 "nbformat": 4,
 "nbformat_minor": 0
}
